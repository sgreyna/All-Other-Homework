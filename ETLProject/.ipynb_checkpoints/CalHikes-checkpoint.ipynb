{
 "cells": [
  {
   "cell_type": "code",
   "execution_count": 1,
   "metadata": {},
   "outputs": [],
   "source": [
    "# Dependencies\n",
    "from bs4 import BeautifulSoup, SoupStrainer\n",
    "import requests"
   ]
  },
  {
   "cell_type": "markdown",
   "metadata": {},
   "source": [
    "EXTRACT"
   ]
  },
  {
   "cell_type": "code",
   "execution_count": 2,
   "metadata": {},
   "outputs": [],
   "source": [
    "url = \"http://www.parks.ca.gov/?page_id=28055\""
   ]
  },
  {
   "cell_type": "code",
   "execution_count": 3,
   "metadata": {},
   "outputs": [],
   "source": [
    "# Retrieve page with the requests module\n",
    "response = requests.get(url)"
   ]
  },
  {
   "cell_type": "code",
   "execution_count": 4,
   "metadata": {},
   "outputs": [],
   "source": [
    "# create dictionary\n",
    "data={'park':[], 'link':[]}"
   ]
  },
  {
   "cell_type": "code",
   "execution_count": 5,
   "metadata": {
    "scrolled": true
   },
   "outputs": [],
   "source": [
    "# Create BeautifulSoup object; parse with 'html.parser'\n",
    "soup = BeautifulSoup(response.text, 'html.parser')\n",
    "\n",
    "# results are returned as an iterable list\n",
    "results = soup.find('div', id=\"center_content\")\n",
    "results2 = results.find_all('a')\n",
    "\n",
    "# loop through results\n",
    "for link in results2:\n",
    "    # Error handling\n",
    "    try:\n",
    "        park = link.text\n",
    "        parklink = link.get('href')\n",
    "        # Print results only if title, price, and link are available\n",
    "        if parklink[:25] == 'https://www.parks.ca.gov/' and park[:5] != 'https':\n",
    "            if (park,  parklink):\n",
    "                #parklist.append(park)\n",
    "                #linklist.append(parklink)\n",
    "                data['park'].append(park)\n",
    "                data['link'].append(parklink)\n",
    "                #print('-------')\n",
    "                #print(park)\n",
    "                #print(parklink)\n",
    "    except AttributeError as e:\n",
    "        print(e)"
   ]
  },
  {
   "cell_type": "code",
   "execution_count": 6,
   "metadata": {},
   "outputs": [
    {
     "data": {
      "text/html": [
       "<div>\n",
       "<style scoped>\n",
       "    .dataframe tbody tr th:only-of-type {\n",
       "        vertical-align: middle;\n",
       "    }\n",
       "\n",
       "    .dataframe tbody tr th {\n",
       "        vertical-align: top;\n",
       "    }\n",
       "\n",
       "    .dataframe thead th {\n",
       "        text-align: right;\n",
       "    }\n",
       "</style>\n",
       "<table border=\"1\" class=\"dataframe\">\n",
       "  <thead>\n",
       "    <tr style=\"text-align: right;\">\n",
       "      <th></th>\n",
       "      <th>park</th>\n",
       "      <th>link</th>\n",
       "    </tr>\n",
       "  </thead>\n",
       "  <tbody>\n",
       "    <tr>\n",
       "      <th>0</th>\n",
       "      <td>Columbia State Historic Park:</td>\n",
       "      <td>https://www.parks.ca.gov/?page_id=552</td>\n",
       "    </tr>\n",
       "    <tr>\n",
       "      <th>1</th>\n",
       "      <td>Mount Diablo State Park:</td>\n",
       "      <td>https://www.parks.ca.gov/?page_id=517</td>\n",
       "    </tr>\n",
       "    <tr>\n",
       "      <th>2</th>\n",
       "      <td>Marshall Gold Discovery State Historic Park</td>\n",
       "      <td>https://www.parks.ca.gov/?page_id=484</td>\n",
       "    </tr>\n",
       "    <tr>\n",
       "      <th>3</th>\n",
       "      <td>Ed Z’Berg Sugar Pine Point State Park:</td>\n",
       "      <td>https://www.parks.ca.gov/?page_id=510</td>\n",
       "    </tr>\n",
       "    <tr>\n",
       "      <th>4</th>\n",
       "      <td>Humboldt Lagoons State Park:</td>\n",
       "      <td>https://www.parks.ca.gov/?page_id=416</td>\n",
       "    </tr>\n",
       "  </tbody>\n",
       "</table>\n",
       "</div>"
      ],
      "text/plain": [
       "                                          park  \\\n",
       "0                Columbia State Historic Park:   \n",
       "1                     Mount Diablo State Park:   \n",
       "2  Marshall Gold Discovery State Historic Park   \n",
       "3       Ed Z’Berg Sugar Pine Point State Park:   \n",
       "4                 Humboldt Lagoons State Park:   \n",
       "\n",
       "                                    link  \n",
       "0  https://www.parks.ca.gov/?page_id=552  \n",
       "1  https://www.parks.ca.gov/?page_id=517  \n",
       "2  https://www.parks.ca.gov/?page_id=484  \n",
       "3  https://www.parks.ca.gov/?page_id=510  \n",
       "4  https://www.parks.ca.gov/?page_id=416  "
      ]
     },
     "execution_count": 6,
     "metadata": {},
     "output_type": "execute_result"
    }
   ],
   "source": [
    "import pandas \n",
    "datadf = pandas.DataFrame(data)\n",
    "datadf.head()"
   ]
  },
  {
   "cell_type": "markdown",
   "metadata": {},
   "source": [
    "TRANSFORM"
   ]
  },
  {
   "cell_type": "code",
   "execution_count": 7,
   "metadata": {},
   "outputs": [
    {
     "data": {
      "text/html": [
       "<div>\n",
       "<style scoped>\n",
       "    .dataframe tbody tr th:only-of-type {\n",
       "        vertical-align: middle;\n",
       "    }\n",
       "\n",
       "    .dataframe tbody tr th {\n",
       "        vertical-align: top;\n",
       "    }\n",
       "\n",
       "    .dataframe thead th {\n",
       "        text-align: right;\n",
       "    }\n",
       "</style>\n",
       "<table border=\"1\" class=\"dataframe\">\n",
       "  <thead>\n",
       "    <tr style=\"text-align: right;\">\n",
       "      <th></th>\n",
       "      <th>park</th>\n",
       "      <th>link</th>\n",
       "    </tr>\n",
       "  </thead>\n",
       "  <tbody>\n",
       "    <tr>\n",
       "      <th>0</th>\n",
       "      <td>Columbia State Historic Park</td>\n",
       "      <td>https://www.parks.ca.gov/?page_id=552</td>\n",
       "    </tr>\n",
       "    <tr>\n",
       "      <th>1</th>\n",
       "      <td>Mount Diablo State Park</td>\n",
       "      <td>https://www.parks.ca.gov/?page_id=517</td>\n",
       "    </tr>\n",
       "    <tr>\n",
       "      <th>2</th>\n",
       "      <td>Marshall Gold Discovery State Historic Park</td>\n",
       "      <td>https://www.parks.ca.gov/?page_id=484</td>\n",
       "    </tr>\n",
       "    <tr>\n",
       "      <th>3</th>\n",
       "      <td>Ed Z’Berg Sugar Pine Point State Park</td>\n",
       "      <td>https://www.parks.ca.gov/?page_id=510</td>\n",
       "    </tr>\n",
       "    <tr>\n",
       "      <th>4</th>\n",
       "      <td>Humboldt Lagoons State Park</td>\n",
       "      <td>https://www.parks.ca.gov/?page_id=416</td>\n",
       "    </tr>\n",
       "  </tbody>\n",
       "</table>\n",
       "</div>"
      ],
      "text/plain": [
       "                                          park  \\\n",
       "0                 Columbia State Historic Park   \n",
       "1                      Mount Diablo State Park   \n",
       "2  Marshall Gold Discovery State Historic Park   \n",
       "3        Ed Z’Berg Sugar Pine Point State Park   \n",
       "4                  Humboldt Lagoons State Park   \n",
       "\n",
       "                                    link  \n",
       "0  https://www.parks.ca.gov/?page_id=552  \n",
       "1  https://www.parks.ca.gov/?page_id=517  \n",
       "2  https://www.parks.ca.gov/?page_id=484  \n",
       "3  https://www.parks.ca.gov/?page_id=510  \n",
       "4  https://www.parks.ca.gov/?page_id=416  "
      ]
     },
     "execution_count": 7,
     "metadata": {},
     "output_type": "execute_result"
    }
   ],
   "source": [
    "#remove \":\"\n",
    "datadf['park'] = datadf['park'].str.replace(\":\", \"\") \n",
    "datadf.head()\n"
   ]
  },
  {
   "cell_type": "code",
   "execution_count": 8,
   "metadata": {},
   "outputs": [
    {
     "data": {
      "text/html": [
       "<div>\n",
       "<style scoped>\n",
       "    .dataframe tbody tr th:only-of-type {\n",
       "        vertical-align: middle;\n",
       "    }\n",
       "\n",
       "    .dataframe tbody tr th {\n",
       "        vertical-align: top;\n",
       "    }\n",
       "\n",
       "    .dataframe thead th {\n",
       "        text-align: right;\n",
       "    }\n",
       "</style>\n",
       "<table border=\"1\" class=\"dataframe\">\n",
       "  <thead>\n",
       "    <tr style=\"text-align: right;\">\n",
       "      <th></th>\n",
       "      <th>park</th>\n",
       "      <th>link</th>\n",
       "    </tr>\n",
       "  </thead>\n",
       "  <tbody>\n",
       "    <tr>\n",
       "      <th>0</th>\n",
       "      <td>Columbia State Historic Park</td>\n",
       "      <td>https://www.parks.ca.gov/?page_id=552</td>\n",
       "    </tr>\n",
       "    <tr>\n",
       "      <th>1</th>\n",
       "      <td>Mount Diablo State Park</td>\n",
       "      <td>https://www.parks.ca.gov/?page_id=517</td>\n",
       "    </tr>\n",
       "    <tr>\n",
       "      <th>2</th>\n",
       "      <td>Marshall Gold Discovery State Historic Park</td>\n",
       "      <td>https://www.parks.ca.gov/?page_id=484</td>\n",
       "    </tr>\n",
       "    <tr>\n",
       "      <th>3</th>\n",
       "      <td>Ed Z’Berg Sugar Pine Point State Park</td>\n",
       "      <td>https://www.parks.ca.gov/?page_id=510</td>\n",
       "    </tr>\n",
       "    <tr>\n",
       "      <th>4</th>\n",
       "      <td>Humboldt Lagoons State Park</td>\n",
       "      <td>https://www.parks.ca.gov/?page_id=416</td>\n",
       "    </tr>\n",
       "  </tbody>\n",
       "</table>\n",
       "</div>"
      ],
      "text/plain": [
       "                                          park  \\\n",
       "0                 Columbia State Historic Park   \n",
       "1                      Mount Diablo State Park   \n",
       "2  Marshall Gold Discovery State Historic Park   \n",
       "3        Ed Z’Berg Sugar Pine Point State Park   \n",
       "4                  Humboldt Lagoons State Park   \n",
       "\n",
       "                                    link  \n",
       "0  https://www.parks.ca.gov/?page_id=552  \n",
       "1  https://www.parks.ca.gov/?page_id=517  \n",
       "2  https://www.parks.ca.gov/?page_id=484  \n",
       "3  https://www.parks.ca.gov/?page_id=510  \n",
       "4  https://www.parks.ca.gov/?page_id=416  "
      ]
     },
     "execution_count": 8,
     "metadata": {},
     "output_type": "execute_result"
    }
   ],
   "source": [
    "#remove row value where link is not to a page\n",
    "datadf = datadf[datadf['link'].str.contains(\"page_id\")==True] \n",
    "datadf.head()"
   ]
  },
  {
   "cell_type": "markdown",
   "metadata": {},
   "source": [
    "LOAD"
   ]
  },
  {
   "cell_type": "code",
   "execution_count": 10,
   "metadata": {},
   "outputs": [
    {
     "name": "stdout",
     "output_type": "stream",
     "text": [
      "2019-05-09 13:14:55,791 INFO sqlalchemy.engine.base.Engine SELECT CAST('test plain returns' AS VARCHAR(60)) AS anon_1\n",
      "2019-05-09 13:14:55,801 INFO sqlalchemy.engine.base.Engine ()\n",
      "2019-05-09 13:14:55,803 INFO sqlalchemy.engine.base.Engine SELECT CAST('test unicode returns' AS VARCHAR(60)) AS anon_1\n",
      "2019-05-09 13:14:55,804 INFO sqlalchemy.engine.base.Engine ()\n",
      "2019-05-09 13:14:55,806 INFO sqlalchemy.engine.base.Engine PRAGMA table_info(\"park\")\n",
      "2019-05-09 13:14:55,808 INFO sqlalchemy.engine.base.Engine ()\n",
      "2019-05-09 13:14:55,810 INFO sqlalchemy.engine.base.Engine PRAGMA table_info(\"hike\")\n",
      "2019-05-09 13:14:55,814 INFO sqlalchemy.engine.base.Engine ()\n",
      "2019-05-09 13:14:55,823 INFO sqlalchemy.engine.base.Engine \n",
      "CREATE TABLE park (\n",
      "\t\"index\" INTEGER NOT NULL, \n",
      "\tpark VARCHAR, \n",
      "\tlink VARCHAR, \n",
      "\tPRIMARY KEY (\"index\")\n",
      ")\n",
      "\n",
      "\n",
      "2019-05-09 13:14:55,824 INFO sqlalchemy.engine.base.Engine ()\n",
      "2019-05-09 13:14:55,846 INFO sqlalchemy.engine.base.Engine COMMIT\n",
      "2019-05-09 13:14:55,848 INFO sqlalchemy.engine.base.Engine \n",
      "CREATE TABLE hike (\n",
      "\t\"index\" INTEGER NOT NULL, \n",
      "\tpark VARCHAR, \n",
      "\thikedt VARCHAR, \n",
      "\tcomments VARCHAR, \n",
      "\tPRIMARY KEY (\"index\")\n",
      ")\n",
      "\n",
      "\n",
      "2019-05-09 13:14:55,856 INFO sqlalchemy.engine.base.Engine ()\n",
      "2019-05-09 13:14:55,894 INFO sqlalchemy.engine.base.Engine COMMIT\n"
     ]
    }
   ],
   "source": [
    "from sqlalchemy import create_engine, MetaData, Table, Column, Integer, String\n",
    "engine = create_engine('sqlite:///CalHikes.db', echo = True)\n",
    "meta = MetaData()\n",
    "\n",
    "park = Table(\n",
    "   'park', meta, \n",
    "   Column('index', Integer, primary_key = True), \n",
    "   Column('park', String), \n",
    "   Column('link', String),\n",
    ")\n",
    "\n",
    "hike = Table(\n",
    "   'hike', meta, \n",
    "   Column('index', Integer, primary_key = True),\n",
    "   Column('park', String), \n",
    "   Column('hikedt', String),\n",
    "   Column('comments', String) ,\n",
    ")\n",
    "meta.create_all(engine)\n"
   ]
  },
  {
   "cell_type": "code",
   "execution_count": 11,
   "metadata": {},
   "outputs": [
    {
     "name": "stdout",
     "output_type": "stream",
     "text": [
      "2019-05-09 13:14:58,349 INFO sqlalchemy.engine.base.Engine PRAGMA table_info(\"park\")\n",
      "2019-05-09 13:14:58,351 INFO sqlalchemy.engine.base.Engine ()\n",
      "2019-05-09 13:14:58,355 INFO sqlalchemy.engine.base.Engine BEGIN (implicit)\n",
      "2019-05-09 13:14:58,357 INFO sqlalchemy.engine.base.Engine INSERT INTO park (\"index\", park, link) VALUES (?, ?, ?)\n",
      "2019-05-09 13:14:58,358 INFO sqlalchemy.engine.base.Engine ((0, 'Columbia State Historic Park', 'https://www.parks.ca.gov/?page_id=552'), (1, 'Mount Diablo State Park', 'https://www.parks.ca.gov/?page_id=517'), (2, 'Marshall Gold Discovery State Historic Park', 'https://www.parks.ca.gov/?page_id=484'), (3, 'Ed Z’Berg Sugar Pine Point State Park', 'https://www.parks.ca.gov/?page_id=510'), (4, 'Humboldt Lagoons State Park', 'https://www.parks.ca.gov/?page_id=416'), (5, 'Anderson Marsh State Historic Park', 'https://www.parks.ca.gov/?page_id=483'), (6, 'Clear Lake State Park', 'https://www.parks.ca.gov/?page_id=473'), (7, 'Angel Island State Park', 'https://www.parks.ca.gov/?page_id=468')  ... displaying 10 of 35 total bound parameter sets ...  (33, 'Salt Point State Park', 'https://www.parks.ca.gov/?page_id=453'), (35, 'Sugarloaf Ridge State Park', 'https://www.parks.ca.gov/?page_id=481'))\n",
      "2019-05-09 13:14:58,366 INFO sqlalchemy.engine.base.Engine COMMIT\n"
     ]
    }
   ],
   "source": [
    "# insert data into table\n",
    "datadf.to_sql('park', con=engine, if_exists='append')"
   ]
  },
  {
   "cell_type": "code",
   "execution_count": 12,
   "metadata": {},
   "outputs": [
    {
     "name": "stdout",
     "output_type": "stream",
     "text": [
      "2019-05-09 13:15:00,483 INFO sqlalchemy.engine.base.Engine BEGIN (implicit)\n",
      "2019-05-09 13:15:00,485 INFO sqlalchemy.engine.base.Engine SELECT park.\"index\" AS park_index, park.park AS park_park, park.link AS park_link \n",
      "FROM park\n",
      "2019-05-09 13:15:00,486 INFO sqlalchemy.engine.base.Engine ()\n",
      "Columbia State Historic Park\n",
      "Mount Diablo State Park\n",
      "Marshall Gold Discovery State Historic Park\n",
      "Ed Z’Berg Sugar Pine Point State Park\n",
      "Humboldt Lagoons State Park\n",
      "Anderson Marsh State Historic Park\n",
      "Clear Lake State Park\n",
      "Angel Island State Park\n",
      "Mendocino Headlands State Park\n",
      "Van Damme State Park\n",
      "Malakoff Diggins State Historic Park\n",
      "Auburn State Recreation Area\n",
      "Wildwood Canyon Park Property\n",
      "Folsom Lake State Recreation Area\n",
      "Cuyamaca Rancho State Park\n",
      "Hearst San Simeon State Park\n",
      "Morro Strand State Beach\n",
      "Morro Strand State Park\n",
      "Pismo State Beach\n",
      "Burleigh H. Murray Ranch Property\n",
      "Montara State Beach\n",
      "Pescadero Marsh Natural Preserve\n",
      "Pigeon Point Light Station State Historic Park\n",
      "La Purísima Mission State Historic Park\n",
      "Castle Rock State Park\n",
      "Henry Cowell Redwoods State Park\n",
      "Natural Bridges State Beach\n",
      "New Brighton State Beach\n",
      "Portola Redwoods State Park\n",
      "Seacliff State Beach\n",
      "The Forest of Nisene Marks State Park\n",
      "Wilder Ranch State Park\n",
      "Jack London State Historic Park\n",
      "Salt Point State Park\n",
      "Sugarloaf Ridge State Park\n"
     ]
    }
   ],
   "source": [
    "#check that table is loaded\n",
    "from sqlalchemy.orm import Session\n",
    "session = Session(bind=engine)\n",
    "\n",
    "# Print all of the player names in the database\n",
    "parktbl = session.query(park)\n",
    "for p in parktbl:\n",
    "  print(p.park)"
   ]
  },
  {
   "cell_type": "markdown",
   "metadata": {},
   "source": [
    "-----------------------------\n",
    "2nd Data Source\n",
    "=============="
   ]
  },
  {
   "cell_type": "markdown",
   "metadata": {},
   "source": [
    "Extract"
   ]
  },
  {
   "cell_type": "code",
   "execution_count": 13,
   "metadata": {},
   "outputs": [
    {
     "data": {
      "text/html": [
       "<div>\n",
       "<style scoped>\n",
       "    .dataframe tbody tr th:only-of-type {\n",
       "        vertical-align: middle;\n",
       "    }\n",
       "\n",
       "    .dataframe tbody tr th {\n",
       "        vertical-align: top;\n",
       "    }\n",
       "\n",
       "    .dataframe thead th {\n",
       "        text-align: right;\n",
       "    }\n",
       "</style>\n",
       "<table border=\"1\" class=\"dataframe\">\n",
       "  <thead>\n",
       "    <tr style=\"text-align: right;\">\n",
       "      <th></th>\n",
       "      <th>park</th>\n",
       "      <th>hikedt</th>\n",
       "      <th>comments</th>\n",
       "    </tr>\n",
       "  </thead>\n",
       "  <tbody>\n",
       "    <tr>\n",
       "      <th>0</th>\n",
       "      <td>Columbia State Historic Park</td>\n",
       "      <td>NaN</td>\n",
       "      <td>NaN</td>\n",
       "    </tr>\n",
       "    <tr>\n",
       "      <th>1</th>\n",
       "      <td>Mount Diablo State Park</td>\n",
       "      <td>NaN</td>\n",
       "      <td>plan to hike in May</td>\n",
       "    </tr>\n",
       "    <tr>\n",
       "      <th>2</th>\n",
       "      <td>Marshall Gold Discovery State Historic Park</td>\n",
       "      <td>NaN</td>\n",
       "      <td>NaN</td>\n",
       "    </tr>\n",
       "    <tr>\n",
       "      <th>3</th>\n",
       "      <td>Ed Z’Berg Sugar Pine Point State Park</td>\n",
       "      <td>NaN</td>\n",
       "      <td>NaN</td>\n",
       "    </tr>\n",
       "    <tr>\n",
       "      <th>4</th>\n",
       "      <td>Humboldt Lagoons State Park</td>\n",
       "      <td>NaN</td>\n",
       "      <td>NaN</td>\n",
       "    </tr>\n",
       "  </tbody>\n",
       "</table>\n",
       "</div>"
      ],
      "text/plain": [
       "                                          park hikedt             comments\n",
       "0                 Columbia State Historic Park    NaN                  NaN\n",
       "1                      Mount Diablo State Park    NaN  plan to hike in May\n",
       "2  Marshall Gold Discovery State Historic Park    NaN                  NaN\n",
       "3        Ed Z’Berg Sugar Pine Point State Park    NaN                  NaN\n",
       "4                  Humboldt Lagoons State Park    NaN                  NaN"
      ]
     },
     "execution_count": 13,
     "metadata": {},
     "output_type": "execute_result"
    }
   ],
   "source": [
    "csv_file = \"Resources/parkshiked.csv\"\n",
    "hikes = pandas.read_csv(csv_file)\n",
    "hikes.head()"
   ]
  },
  {
   "cell_type": "markdown",
   "metadata": {},
   "source": [
    "Transform"
   ]
  },
  {
   "cell_type": "code",
   "execution_count": 14,
   "metadata": {},
   "outputs": [
    {
     "data": {
      "text/html": [
       "<div>\n",
       "<style scoped>\n",
       "    .dataframe tbody tr th:only-of-type {\n",
       "        vertical-align: middle;\n",
       "    }\n",
       "\n",
       "    .dataframe tbody tr th {\n",
       "        vertical-align: top;\n",
       "    }\n",
       "\n",
       "    .dataframe thead th {\n",
       "        text-align: right;\n",
       "    }\n",
       "</style>\n",
       "<table border=\"1\" class=\"dataframe\">\n",
       "  <thead>\n",
       "    <tr style=\"text-align: right;\">\n",
       "      <th></th>\n",
       "      <th>park</th>\n",
       "      <th>hikedt</th>\n",
       "      <th>comments</th>\n",
       "    </tr>\n",
       "  </thead>\n",
       "  <tbody>\n",
       "    <tr>\n",
       "      <th>0</th>\n",
       "      <td>Columbia State Historic Park</td>\n",
       "      <td>NaN</td>\n",
       "      <td>NaN</td>\n",
       "    </tr>\n",
       "    <tr>\n",
       "      <th>1</th>\n",
       "      <td>Mount Diablo State Park</td>\n",
       "      <td>NaN</td>\n",
       "      <td>plan to hike in May</td>\n",
       "    </tr>\n",
       "    <tr>\n",
       "      <th>2</th>\n",
       "      <td>Marshall Gold Discovery State Historic Park</td>\n",
       "      <td>NaN</td>\n",
       "      <td>NaN</td>\n",
       "    </tr>\n",
       "    <tr>\n",
       "      <th>3</th>\n",
       "      <td>Ed Z’Berg Sugar Pine Point State Park</td>\n",
       "      <td>NaN</td>\n",
       "      <td>NaN</td>\n",
       "    </tr>\n",
       "    <tr>\n",
       "      <th>4</th>\n",
       "      <td>Humboldt Lagoons State Park</td>\n",
       "      <td>NaN</td>\n",
       "      <td>NaN</td>\n",
       "    </tr>\n",
       "  </tbody>\n",
       "</table>\n",
       "</div>"
      ],
      "text/plain": [
       "                                          park hikedt             comments\n",
       "0                 Columbia State Historic Park    NaN                  NaN\n",
       "1                      Mount Diablo State Park    NaN  plan to hike in May\n",
       "2  Marshall Gold Discovery State Historic Park    NaN                  NaN\n",
       "3        Ed Z’Berg Sugar Pine Point State Park    NaN                  NaN\n",
       "4                  Humboldt Lagoons State Park    NaN                  NaN"
      ]
     },
     "execution_count": 14,
     "metadata": {},
     "output_type": "execute_result"
    }
   ],
   "source": [
    "hikesdf = pandas.DataFrame(hikes)\n",
    "hikesdf.head()"
   ]
  },
  {
   "cell_type": "code",
   "execution_count": 15,
   "metadata": {},
   "outputs": [
    {
     "data": {
      "text/html": [
       "<div>\n",
       "<style scoped>\n",
       "    .dataframe tbody tr th:only-of-type {\n",
       "        vertical-align: middle;\n",
       "    }\n",
       "\n",
       "    .dataframe tbody tr th {\n",
       "        vertical-align: top;\n",
       "    }\n",
       "\n",
       "    .dataframe thead th {\n",
       "        text-align: right;\n",
       "    }\n",
       "</style>\n",
       "<table border=\"1\" class=\"dataframe\">\n",
       "  <thead>\n",
       "    <tr style=\"text-align: right;\">\n",
       "      <th></th>\n",
       "      <th>park</th>\n",
       "      <th>hikedt</th>\n",
       "      <th>comments</th>\n",
       "    </tr>\n",
       "  </thead>\n",
       "  <tbody>\n",
       "    <tr>\n",
       "      <th>0</th>\n",
       "      <td>Columbia State Historic Park</td>\n",
       "      <td>NaN</td>\n",
       "      <td>future hike</td>\n",
       "    </tr>\n",
       "    <tr>\n",
       "      <th>1</th>\n",
       "      <td>Mount Diablo State Park</td>\n",
       "      <td>NaN</td>\n",
       "      <td>plan to hike in May</td>\n",
       "    </tr>\n",
       "    <tr>\n",
       "      <th>2</th>\n",
       "      <td>Marshall Gold Discovery State Historic Park</td>\n",
       "      <td>NaN</td>\n",
       "      <td>future hike</td>\n",
       "    </tr>\n",
       "    <tr>\n",
       "      <th>3</th>\n",
       "      <td>Ed Z’Berg Sugar Pine Point State Park</td>\n",
       "      <td>NaN</td>\n",
       "      <td>future hike</td>\n",
       "    </tr>\n",
       "    <tr>\n",
       "      <th>4</th>\n",
       "      <td>Humboldt Lagoons State Park</td>\n",
       "      <td>NaN</td>\n",
       "      <td>future hike</td>\n",
       "    </tr>\n",
       "  </tbody>\n",
       "</table>\n",
       "</div>"
      ],
      "text/plain": [
       "                                          park hikedt             comments\n",
       "0                 Columbia State Historic Park    NaN          future hike\n",
       "1                      Mount Diablo State Park    NaN  plan to hike in May\n",
       "2  Marshall Gold Discovery State Historic Park    NaN          future hike\n",
       "3        Ed Z’Berg Sugar Pine Point State Park    NaN          future hike\n",
       "4                  Humboldt Lagoons State Park    NaN          future hike"
      ]
     },
     "execution_count": 15,
     "metadata": {},
     "output_type": "execute_result"
    }
   ],
   "source": [
    "hikesdf['comments'].fillna('future hike', inplace = True)\n",
    "hikesdf.head()"
   ]
  },
  {
   "cell_type": "markdown",
   "metadata": {},
   "source": [
    "Load"
   ]
  },
  {
   "cell_type": "code",
   "execution_count": 16,
   "metadata": {},
   "outputs": [
    {
     "name": "stdout",
     "output_type": "stream",
     "text": [
      "2019-05-09 13:15:10,525 INFO sqlalchemy.engine.base.Engine PRAGMA table_info(\"hike\")\n",
      "2019-05-09 13:15:10,528 INFO sqlalchemy.engine.base.Engine ()\n",
      "2019-05-09 13:15:10,533 INFO sqlalchemy.engine.base.Engine BEGIN (implicit)\n",
      "2019-05-09 13:15:10,537 INFO sqlalchemy.engine.base.Engine INSERT INTO hike (\"index\", park, hikedt, comments) VALUES (?, ?, ?, ?)\n",
      "2019-05-09 13:15:10,538 INFO sqlalchemy.engine.base.Engine ((0, 'Columbia State Historic Park', None, 'future hike'), (1, 'Mount Diablo State Park', None, 'plan to hike in May'), (2, 'Marshall Gold Discovery State Historic Park', None, 'future hike'), (3, 'Ed Z’Berg Sugar Pine Point State Park', None, 'future hike'), (4, 'Humboldt Lagoons State Park', None, 'future hike'), (5, 'Anderson Marsh State Historic Park', None, 'future hike'), (6, 'Clear Lake State Park', None, 'future hike'), (7, 'Angel Island State Park', None, 'future hike')  ... displaying 10 of 35 total bound parameter sets ...  (33, 'Salt Point State Park', None, 'future hike'), (34, 'Sugarloaf Ridge State Park', None, 'future hike'))\n",
      "2019-05-09 13:15:10,542 INFO sqlalchemy.engine.base.Engine COMMIT\n"
     ]
    }
   ],
   "source": [
    "# insert data into table\n",
    "hikesdf.to_sql('hike', con=engine, if_exists='append')"
   ]
  },
  {
   "cell_type": "code",
   "execution_count": 17,
   "metadata": {},
   "outputs": [
    {
     "name": "stdout",
     "output_type": "stream",
     "text": [
      "2019-05-09 13:15:12,333 INFO sqlalchemy.engine.base.Engine SELECT park.\"index\" AS park_index, park.park AS park_park, park.link AS park_link \n",
      "FROM park\n",
      "2019-05-09 13:15:12,334 INFO sqlalchemy.engine.base.Engine ()\n",
      "Columbia State Historic Park\n",
      "Mount Diablo State Park\n",
      "Marshall Gold Discovery State Historic Park\n",
      "Ed Z’Berg Sugar Pine Point State Park\n",
      "Humboldt Lagoons State Park\n",
      "Anderson Marsh State Historic Park\n",
      "Clear Lake State Park\n",
      "Angel Island State Park\n",
      "Mendocino Headlands State Park\n",
      "Van Damme State Park\n",
      "Malakoff Diggins State Historic Park\n",
      "Auburn State Recreation Area\n",
      "Wildwood Canyon Park Property\n",
      "Folsom Lake State Recreation Area\n",
      "Cuyamaca Rancho State Park\n",
      "Hearst San Simeon State Park\n",
      "Morro Strand State Beach\n",
      "Morro Strand State Park\n",
      "Pismo State Beach\n",
      "Burleigh H. Murray Ranch Property\n",
      "Montara State Beach\n",
      "Pescadero Marsh Natural Preserve\n",
      "Pigeon Point Light Station State Historic Park\n",
      "La Purísima Mission State Historic Park\n",
      "Castle Rock State Park\n",
      "Henry Cowell Redwoods State Park\n",
      "Natural Bridges State Beach\n",
      "New Brighton State Beach\n",
      "Portola Redwoods State Park\n",
      "Seacliff State Beach\n",
      "The Forest of Nisene Marks State Park\n",
      "Wilder Ranch State Park\n",
      "Jack London State Historic Park\n",
      "Salt Point State Park\n",
      "Sugarloaf Ridge State Park\n"
     ]
    }
   ],
   "source": [
    "# Print all of the player names in the database\n",
    "parktbl = session.query(park)\n",
    "for p in parktbl:\n",
    "  print(p.park)"
   ]
  },
  {
   "cell_type": "code",
   "execution_count": null,
   "metadata": {},
   "outputs": [],
   "source": []
  }
 ],
 "metadata": {
  "kernelspec": {
   "display_name": "Python 3",
   "language": "python",
   "name": "python3"
  },
  "language_info": {
   "codemirror_mode": {
    "name": "ipython",
    "version": 3
   },
   "file_extension": ".py",
   "mimetype": "text/x-python",
   "name": "python",
   "nbconvert_exporter": "python",
   "pygments_lexer": "ipython3",
   "version": "3.6.7"
  }
 },
 "nbformat": 4,
 "nbformat_minor": 2
}
